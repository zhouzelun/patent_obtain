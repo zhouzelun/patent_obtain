{
 "cells": [
  {
   "cell_type": "code",
   "execution_count": 4,
   "metadata": {
    "collapsed": true
   },
   "outputs": [],
   "source": [
    "import requests\n",
    "import json\n",
    "import pandas as pd\n",
    "import time"
   ]
  },
  {
   "cell_type": "code",
   "execution_count": 5,
   "metadata": {
    "collapsed": true
   },
   "outputs": [],
   "source": [
    "from bs4 import BeautifulSoup\n",
    "from lxml import etree"
   ]
  },
  {
   "cell_type": "code",
   "execution_count": 6,
   "metadata": {},
   "outputs": [],
   "source": [
    "data = pd.read_csv('Namelist.csv',header=None)"
   ]
  },
  {
   "cell_type": "code",
   "execution_count": 107,
   "metadata": {},
   "outputs": [
    {
     "name": "stdout",
     "output_type": "stream",
     "text": [
      "(3624, 1)\n"
     ]
    }
   ],
   "source": [
    "print(data.shape)#1970"
   ]
  },
  {
   "cell_type": "markdown",
   "metadata": {},
   "source": [
    "with open('zl_2013_b.csv','a+') as f: \n",
    "    for tmp in range(0,data.shape[0]):\n",
    "        if(data[0][tmp].find('(')==-1):\n",
    "            continue\n",
    "        try:\n",
    "            count = search('\\\"'+data[0][tmp]+'\\\"')\n",
    "        except:\n",
    "            print('error')\n",
    "            break\n",
    "        if count == '':\n",
    "            count='0'\n",
    "        content1 = str(tmp+1)+','+str(data[0][tmp])+','+str(count)+'\\n'\n",
    "        content = str(tmp+1)+','+str(count)+'\\n'\n",
    "        print(content1)\n",
    "        f.write(content)\n",
    "        print('---'+str(tmp))\n",
    "        time.sleep(2)"
   ]
  },
  {
   "cell_type": "code",
   "execution_count": 12,
   "metadata": {},
   "outputs": [
    {
     "data": {
      "text/plain": [
       "-1"
      ]
     },
     "execution_count": 12,
     "metadata": {},
     "output_type": "execute_result"
    }
   ],
   "source": [
    "a='sdads'\n",
    "a.find('z')"
   ]
  },
  {
   "cell_type": "code",
   "execution_count": 33,
   "metadata": {},
   "outputs": [
    {
     "name": "stdout",
     "output_type": "stream",
     "text": [
      "广东雪莱特光电科技股份有限公司,-1\n",
      "\n",
      "---538\n",
      "江苏大港股份有限公司,-1\n",
      "\n",
      "---539\n",
      "山东太阳纸业股份有限公司,-1\n",
      "\n",
      "---540\n",
      "苏州固锝电子股份有限公司,-1\n",
      "\n",
      "---541\n"
     ]
    },
    {
     "ename": "KeyboardInterrupt",
     "evalue": "",
     "output_type": "error",
     "traceback": [
      "\u001b[0;31m---------------------------------------------------------------------------\u001b[0m",
      "\u001b[0;31mKeyboardInterrupt\u001b[0m                         Traceback (most recent call last)",
      "\u001b[0;32m<ipython-input-33-8fa549bc7e3e>\u001b[0m in \u001b[0;36m<module>\u001b[0;34m()\u001b[0m\n\u001b[1;32m     15\u001b[0m         \u001b[0mf\u001b[0m\u001b[0;34m.\u001b[0m\u001b[0mwrite\u001b[0m\u001b[0;34m(\u001b[0m\u001b[0mcontent\u001b[0m\u001b[0;34m)\u001b[0m\u001b[0;34m\u001b[0m\u001b[0m\n\u001b[1;32m     16\u001b[0m         \u001b[0mprint\u001b[0m\u001b[0;34m(\u001b[0m\u001b[0;34m'---'\u001b[0m\u001b[0;34m+\u001b[0m\u001b[0mstr\u001b[0m\u001b[0;34m(\u001b[0m\u001b[0mtmp\u001b[0m\u001b[0;34m)\u001b[0m\u001b[0;34m)\u001b[0m\u001b[0;34m\u001b[0m\u001b[0m\n\u001b[0;32m---> 17\u001b[0;31m         \u001b[0mtime\u001b[0m\u001b[0;34m.\u001b[0m\u001b[0msleep\u001b[0m\u001b[0;34m(\u001b[0m\u001b[0;36m2\u001b[0m\u001b[0;34m)\u001b[0m\u001b[0;34m\u001b[0m\u001b[0m\n\u001b[0m",
      "\u001b[0;31mKeyboardInterrupt\u001b[0m: "
     ]
    }
   ],
   "source": [
    "with open('zl_2009.csv','a+') as f: \n",
    "    for tmp in range(538,data.shape[0]):\n",
    "        try:\n",
    "            if(data[0][tmp].find('(')==-1):\n",
    "                count = search(data[0][tmp])\n",
    "            else:\n",
    "                count = search('\\\"'+data[0][tmp]+'\\\"')\n",
    "        except:\n",
    "            print('error')\n",
    "            break\n",
    "        if count == '':\n",
    "            count='0'\n",
    "        content = str(data[0][tmp])+','+str(count)+'\\n'\n",
    "        print(content)\n",
    "        f.write(content)\n",
    "        print('---'+str(tmp))\n",
    "        time.sleep(2)"
   ]
  },
  {
   "cell_type": "code",
   "execution_count": 32,
   "metadata": {
    "collapsed": true
   },
   "outputs": [],
   "source": [
    "def search(name):\n",
    "    url = 'http://www.pss-system.gov.cn/sipopublicsearch/patentsearch/executeTableSearch0529-executeCommandSearch.shtml'\n",
    "           \n",
    "    #fir = '(申请人 =  ( '+ name +' ) )  AND ( PDB=\\'CNA0\\' AND AY=\\'2017\\' )'\n",
    "    fir = '(申请日=20090101:20100101 AND 申请（专利权）人=('+name+')) AND (发明类型=(\"I\") AND 公开国家/地区/组织=(CN))'\n",
    "    \n",
    "    sec = 'VDB'\n",
    "    thr = 'Sino_foreign'\n",
    "    forth = 'MODE_TABLE'\n",
    "    fif = 'STRATEGY_CALCULATE'\n",
    "    six = ''\n",
    "    seven=''\n",
    "    eight='0200201'\n",
    "    nin = '12'\n",
    "            \n",
    "        \n",
    "    head = {\n",
    "        'Accept': 'application/json, text/javascript, */*; q=0.01',\n",
    "        'Accept-Encoding': 'gzip, deflate',\n",
    "        'Accept-Language': 'zh-CN,zh;q=0.9',\n",
    "        'Cache-Control': 'no-cache',\n",
    "        'Connection': 'keep-alive',\n",
    "        'Content-Length': '694',\n",
    "        'Content-Type': 'application/x-www-form-urlencoded; charset=UTF-8',\n",
    "        'Cookie': 'WEE_SID=GFeiIl2SrR03b1RNND36MQR5z2c5mGBtokrAXaNe0LAtKIxZZWBn!-15332913!805969920!1561793289618; IS_LOGIN=true; wee_username=QW50eTEyMDM%3D; wee_password=c2l5ZWNhbzEyMDM%3D; avoid_declare=declare_pass; JSESSIONID=GFeiIl2SrR03b1RNND36MQR5z2c5mGBtokrAXaNe0LAtKIxZZWBn!-15332913!805969920',\n",
    "        'Host': 'www.pss-system.gov.cn',\n",
    "        'Origin': 'http://www.pss-system.gov.cn',\n",
    "        'Pragma': 'no-cache',\n",
    "        'Referer': 'http://www.pss-system.gov.cn/sipopublicsearch/patentsearch/tableSearch-showTableSearchIndex.shtml',\n",
    "        'User-Agent': 'Mozilla/5.0 (Windows NT 10.0; Win64; x64) AppleWebKit/537.36 (KHTML, like Gecko) Chrome/74.0.3729.131 Safari/537.36',\n",
    "        'X-Requested-With': 'XMLHttpRequest'\n",
    "    }\n",
    "    data = {\"searchCondition.searchExp\":fir,\n",
    "            \"searchCondition.dbId\":sec,\n",
    "            'searchCondition.searchType':thr,\n",
    "            'searchCondition.extendInfo[\\'MODE\\']':forth,\n",
    "            'searchCondition.extendInfo[\\'STRATEGY\\']':fif,\n",
    "            'searchCondition.originalLanguage':six,\n",
    "            'searchCondition.targetLanguage':seven,\n",
    "            'wee.bizlog.modulelevel':eight,\n",
    "            'resultPagination.limit':nin\n",
    "           }\n",
    "    r = requests.post(url,data=data,headers=head)\n",
    "    info = json.loads(r.text)\n",
    "    return info['searchResultDTO']['pagination']['totalCount']"
   ]
  },
  {
   "cell_type": "code",
   "execution_count": 103,
   "metadata": {
    "collapsed": true
   },
   "outputs": [],
   "source": [
    "url = 'http://www.pss-system.gov.cn/sipopublicsearch/patentsearch/executeTableSearch0529-executeCommandSearch.shtml'\n",
    "       \n",
    "#fir = '(申请人 =  ( '+ name +' ) )  AND ( PDB=\\'CNA0\\' AND AY=\\'2017\\' )'\n",
    "fir = '(申请日=20140101:20150101 AND 申请（专利权）人=('+'平安银行股份有限公司'+')) AND (发明类型=(\"I\") AND 公开国家/地区/组织=(CN))'\n",
    "\n",
    "sec = 'VDB'\n",
    "thr = 'Sino_foreign'\n",
    "forth = 'MODE_TABLE'\n",
    "fif = 'STRATEGY_CALCULATE'\n",
    "six = ''\n",
    "seven=''\n",
    "eight='0200201'\n",
    "nin = '12'\n",
    "        \n",
    "head = {\n",
    "    'Accept': 'application/json, text/javascript, */*; q=0.01',\n",
    "    'Accept-Encoding': 'gzip, deflate',\n",
    "    'Accept-Language': 'zh-CN,zh;q=0.9',\n",
    "    'Cache-Control': 'no-cache',\n",
    "    'Connection': 'keep-alive',\n",
    "    'Content-Length': '694',\n",
    "    'Content-Type': 'application/x-www-form-urlencoded; charset=UTF-8',\n",
    "    'Cookie': 'WEE_SID=qfPJK0CjmbzFV5NBpq_VG1jNKeQ3vukYtbyWqjn1IR3kgvKO6j7Q!282725381!-214385634!1558153216163; IS_LOGIN=true; wee_username=QW50eTEyMDM%3D; wee_password=c2l5ZWNhbzEyMDM%3D; avoid_declare=declare_pass; JSESSIONID=qfPJK0CjmbzFV5NBpq_VG1jNKeQ3vukYtbyWqjn1IR3kgvKO6j7Q!282725381!-214385634',\n",
    "               \n",
    "    'Host': 'www.pss-system.gov.cn',\n",
    "    'Origin': 'http://www.pss-system.gov.cn',\n",
    "    'Pragma': 'no-cache',\n",
    "    'Referer': 'http://www.pss-system.gov.cn/sipopublicsearch/patentsearch/tableSearch-showTableSearchIndex.shtml',\n",
    "    'User-Agent': 'Mozilla/5.0 (Windows NT 10.0; Win64; x64) AppleWebKit/537.36 (KHTML, like Gecko) Chrome/74.0.3729.131 Safari/537.36',\n",
    "    'X-Requested-With': 'XMLHttpRequest'\n",
    "}\n",
    "data = {\"searchCondition.searchExp\":fir,\n",
    "        \"searchCondition.dbId\":sec,\n",
    "        'searchCondition.searchType':thr,\n",
    "        'searchCondition.extendInfo[\\'MODE\\']':forth,\n",
    "        'searchCondition.extendInfo[\\'STRATEGY\\']':fif,\n",
    "        'searchCondition.originalLanguage':six,\n",
    "        'searchCondition.targetLanguage':seven,\n",
    "        'wee.bizlog.modulelevel':eight,\n",
    "        'resultPagination.limit':nin\n",
    "       }\n",
    "r = requests.post(url,data=data,headers=head)\n",
    "info = json.loads(r.text)\n",
    "#myfind(info['context']['ay'])"
   ]
  },
  {
   "cell_type": "code",
   "execution_count": 104,
   "metadata": {},
   "outputs": [
    {
     "data": {
      "text/plain": [
       "0"
      ]
     },
     "execution_count": 104,
     "metadata": {},
     "output_type": "execute_result"
    }
   ],
   "source": [
    "info['searchResultDTO']['pagination']['totalCount']"
   ]
  },
  {
   "cell_type": "code",
   "execution_count": 9,
   "metadata": {
    "collapsed": true
   },
   "outputs": [],
   "source": [
    "def myfind(l):\n",
    "    tmp=''\n",
    "    _2017=0\n",
    "    _2016=0\n",
    "    for index in l:\n",
    "        if index['value'] == '2017':\n",
    "            _2017=index['count']\n",
    "        if index['value'] == '2016':\n",
    "            _2016=index['count']\n",
    "    return _2017,_2016        "
   ]
  },
  {
   "cell_type": "code",
   "execution_count": null,
   "metadata": {
    "collapsed": true
   },
   "outputs": [],
   "source": []
  }
 ],
 "metadata": {
  "kernelspec": {
   "display_name": "Python 3",
   "language": "python",
   "name": "python3"
  },
  "language_info": {
   "codemirror_mode": {
    "name": "ipython",
    "version": 3
   },
   "file_extension": ".py",
   "mimetype": "text/x-python",
   "name": "python",
   "nbconvert_exporter": "python",
   "pygments_lexer": "ipython3",
   "version": "3.6.3"
  }
 },
 "nbformat": 4,
 "nbformat_minor": 2
}
